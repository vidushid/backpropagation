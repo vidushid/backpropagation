{
 "cells": [
  {
   "cell_type": "code",
   "execution_count": 1,
   "id": "431ea415",
   "metadata": {},
   "outputs": [],
   "source": [
    "import glob\n",
    "import matplotlib.pyplot as plt\n",
    "import numpy as np\n",
    "import pandas as pd\n",
    "import seaborn as sn\n",
    "# Reading an animated GIF file using Python Image Processing Library - Pillow\n",
    "from PIL import Image\n",
    "from tensorflow.math import confusion_matrix as cm\n",
    "from sklearn.svm import SVC\n",
    "from sklearn.preprocessing import StandardScaler\n",
    "from sklearn.decomposition import PCA\n",
    "from sklearn.discriminant_analysis import LinearDiscriminantAnalysis\n",
    "from sklearn.preprocessing import MinMaxScaler"
   ]
  },
  {
   "cell_type": "code",
   "execution_count": 2,
   "id": "a2ddf59d",
   "metadata": {},
   "outputs": [],
   "source": [
    "#load all gif in train folder\n",
    "train_images = [Image.open(file) for file in glob.glob(\"./Data/emotion_classification/train/*.gif\")]\n",
    "\n",
    "#Dimension of image\n",
    "height,width=np.array(train_images[0]).shape\n",
    "size=height*width\n",
    "\n",
    "#number of data samples\n",
    "N1=len(train_images)\n",
    "\n",
    "#Target values corresponding to data samples (happy = 1 & sad = 0)\n",
    "train_target=np.array([1,1,0,0,1,0,0,1,0,1,0,1,0,1,0,0,1,0,1,0])\n",
    "\n",
    "#load all gif in train folder\n",
    "test_images = [Image.open(file) for file in glob.glob(\"./Data/emotion_classification/test/*.gif\")]\n",
    "\n",
    "N=len(test_images)\n",
    "\n",
    "#Test target values\n",
    "test_target=np.array([0,1,1,1,0,1,1,0,1,0])"
   ]
  },
  {
   "cell_type": "code",
   "execution_count": 3,
   "id": "c97adf7d",
   "metadata": {},
   "outputs": [],
   "source": [
    "# plt.imshow(train_images[0],cmap='gray')\n",
    "# plt.imshow(test_images[0],cmap='gray')\n",
    "# plt.show()"
   ]
  },
  {
   "cell_type": "code",
   "execution_count": 4,
   "id": "4b77aab7",
   "metadata": {},
   "outputs": [],
   "source": [
    "#flattening the data sample images from 101x101 to 1x10201  and storing into x_train\n",
    "x_train=np.zeros((N1,size))\n",
    "for i in range(len(train_images)):\n",
    "    x_train[i,:]=np.array(train_images[i]).reshape(1,size)\n",
    "\n",
    "x_test=np.zeros((N,size))\n",
    "for i in range(len(test_images)):\n",
    "    x_test[i,:]=np.array(test_images[i]).reshape(1,size)\n",
    "    "
   ]
  },
  {
   "cell_type": "markdown",
   "id": "d10538b4",
   "metadata": {},
   "source": [
    "pca = PCA(n_components=12)\n",
    "pca_train = pca.fit_transform(x_train)\n",
    "pca_test = pca.transform(x_test)"
   ]
  },
  {
   "cell_type": "markdown",
   "id": "20031da6",
   "metadata": {},
   "source": [
    "scaler = StandardScaler()\n",
    "y_train = scaler.fit_transform(pca_train)\n",
    "y_test = scaler.transform(pca_test)"
   ]
  },
  {
   "cell_type": "code",
   "execution_count": 5,
   "id": "c951c092",
   "metadata": {},
   "outputs": [],
   "source": [
    "scaler = StandardScaler()\n",
    "std_train = scaler.fit_transform(x_train)\n",
    "std_test = scaler.transform(x_test)"
   ]
  },
  {
   "cell_type": "code",
   "execution_count": 6,
   "id": "0cab0413",
   "metadata": {},
   "outputs": [],
   "source": [
    "pca = PCA(n_components=12)\n",
    "y_train = pca.fit_transform(std_train)\n",
    "y_test = pca.transform(std_test)"
   ]
  },
  {
   "cell_type": "code",
   "execution_count": 7,
   "id": "0ec1c9fc",
   "metadata": {},
   "outputs": [],
   "source": [
    "def FCLayer(input_size, output_size):\n",
    "    weights = np.random.rand(input_size, output_size) -0.5\n",
    "    bias = np.random.rand(1, output_size) -0.5\n",
    "    \n",
    "    return weights, bias"
   ]
  },
  {
   "cell_type": "code",
   "execution_count": 8,
   "id": "bd0f99ca",
   "metadata": {},
   "outputs": [],
   "source": [
    "def ReLU(x):\n",
    "    x[x<0] = 0\n",
    "    return x"
   ]
  },
  {
   "cell_type": "code",
   "execution_count": 9,
   "id": "33b095b8",
   "metadata": {},
   "outputs": [],
   "source": [
    "def softmax(x):\n",
    "    denom = np.sum(np.exp(x))\n",
    "    return np.exp(x) / denom"
   ]
  },
  {
   "cell_type": "code",
   "execution_count": 10,
   "id": "95edcf83",
   "metadata": {},
   "outputs": [],
   "source": [
    "def cross_entropy(y_true, y_predict):\n",
    "    return - np.dot(y_true, np.log(y_predict))"
   ]
  },
  {
   "cell_type": "code",
   "execution_count": 11,
   "id": "560fc881",
   "metadata": {},
   "outputs": [],
   "source": [
    "def ReLU_backward(x):\n",
    "    x[x<0] = 0\n",
    "    x[x>0] = 1\n",
    "\n",
    "    return x"
   ]
  },
  {
   "cell_type": "code",
   "execution_count": 12,
   "id": "dfdd9225",
   "metadata": {},
   "outputs": [],
   "source": [
    "def forward_prop(X, w1, w2, b1, b2):\n",
    "    a1 = X@w1 + b1\n",
    "    h1 = ReLU(a1)\n",
    "    a2 = h1@w2 +b2\n",
    "    h2 = softmax(a2)\n",
    "    return a1, h1, a2, h2"
   ]
  },
  {
   "cell_type": "code",
   "execution_count": 13,
   "id": "85d5f326",
   "metadata": {},
   "outputs": [],
   "source": [
    "def back_prop(y_train, one_hot_target, y_pred, w2, a1):\n",
    "#     dL_dy_pred = loss_to_output(one_hot_target, y_pred)\n",
    "    dL_da2 = y_pred - one_hot_target\n",
    "    dL_dh1 = dL_da2.dot(w2.T)\n",
    "    dL_da1 = dL_dh1 * ReLU_backward(a1)\n",
    "    dL_dw2 = dL_dh1.T.dot(dL_da2)\n",
    "    dL_db2 = dL_da2\n",
    "    dL_dw1 = y_train.reshape(y_train.shape[0],1).dot(dL_da1)\n",
    "    dL_db1 = dL_da1\n",
    "    \n",
    "    return dL_dw2, dL_db2, dL_dw1, dL_db1"
   ]
  },
  {
   "cell_type": "code",
   "execution_count": 14,
   "id": "9d3e920d",
   "metadata": {},
   "outputs": [],
   "source": [
    "def fit(y_train, train_target, hidden_layer_neurons, MAX_ITER, Learning_rate):\n",
    "    \n",
    "    one_hot_target = np.zeros((train_target.shape[0],2))\n",
    "    \n",
    "    for i,j  in enumerate(train_target):\n",
    "        one_hot_target[i,j] = 1\n",
    "        \n",
    "    num, param = y_train.shape\n",
    "    input_neurons = param\n",
    "    output_class = np.unique(train_target).shape[0]\n",
    "\n",
    "    w1, b1 = FCLayer(param, hidden_layer_neurons)\n",
    "    w2, b2 = FCLayer(hidden_layer_neurons, output_class)\n",
    "    loss_=[]\n",
    "    for j in range(MAX_ITER):\n",
    "        temp = 0\n",
    "        for i in range(num):\n",
    "            train = y_train[i]\n",
    "    \n",
    "            a1, h1, a2, y2 = forward_prop(train, w1, w2, b1, b2)\n",
    "            dL_dw2, dL_db2, dL_dw1, dL_db1 = back_prop(train, one_hot_target[i], y2, w2, a1)\n",
    "            w2 -= Learning_rate * dL_dw2\n",
    "            b2 -= Learning_rate * dL_db2\n",
    "            w1 -= Learning_rate * dL_dw1\n",
    "            b1 -= Learning_rate * dL_db1\n",
    "\n",
    "            temp+= cross_entropy(one_hot_target[i], y2.reshape(-1))\n",
    "        loss_.append(temp)\n",
    "        \n",
    "    return w1, b1, w2, b2, loss_"
   ]
  },
  {
   "cell_type": "code",
   "execution_count": 15,
   "id": "9c9e1966",
   "metadata": {},
   "outputs": [],
   "source": [
    "def predict(y_test, test_target, w1, b1, w2, b2):\n",
    "    num, param = y_test.shape\n",
    "    pred = []\n",
    "    hidden_neuron = w1.shape[1]\n",
    "    for i in range(num):\n",
    "        \n",
    "        temp2 = y_test[i]\n",
    "\n",
    "        a1, h1, a2, y2 = forward_prop(temp2, w1, w2, b1, b2)\n",
    "        \n",
    "        if y2[0,0]>y2[0,1]:\n",
    "            pred.append(0)\n",
    "        else:\n",
    "            pred.append(1)\n",
    "    count=0\n",
    "    count=sum([1 for i in range(num) if pred[i] == test_target[i]])\n",
    "    print(f'Accuracy: {count*100/num}% for hidden nuerons: {hidden_neuron}')            "
   ]
  },
  {
   "cell_type": "code",
   "execution_count": 16,
   "id": "124d0dce",
   "metadata": {},
   "outputs": [
    {
     "name": "stdout",
     "output_type": "stream",
     "text": [
      "Accuracy: 60.0% for hidden nuerons: 10\n"
     ]
    }
   ],
   "source": [
    "np.random.seed(10)\n",
    "hidden_layer_neurons = 10\n",
    "MAX_ITER = 20\n",
    "Learning_rate = 0.001\n",
    "\n",
    "w1, b1, w2, b2, loss_10 = fit(y_train, train_target, hidden_layer_neurons, MAX_ITER, Learning_rate)\n",
    "predict(y_test, test_target, w1, b1, w2, b2)"
   ]
  },
  {
   "cell_type": "code",
   "execution_count": 17,
   "id": "9f58c860",
   "metadata": {},
   "outputs": [
    {
     "name": "stdout",
     "output_type": "stream",
     "text": [
      "Accuracy: 90.0% for hidden nuerons: 15\n"
     ]
    }
   ],
   "source": [
    "np.random.seed(10)\n",
    "hidden_layer_neurons = 15\n",
    "MAX_ITER = 20\n",
    "Learning_rate = 0.001\n",
    "\n",
    "w1, b1, w2, b2, loss_15 = fit(y_train, train_target, hidden_layer_neurons, MAX_ITER, Learning_rate)\n",
    "predict(y_test, test_target, w1, b1, w2, b2)"
   ]
  },
  {
   "cell_type": "code",
   "execution_count": 18,
   "id": "d01c7190",
   "metadata": {},
   "outputs": [
    {
     "data": {
      "image/png": "[encoded data removed]",
      "text/plain": [
       "<Figure size 1080x360 with 1 Axes>"
      ]
     },
     "metadata": {
      "needs_background": "light"
     },
     "output_type": "display_data"
    }
   ],
   "source": [
    "X = range(MAX_ITER)\n",
    "plt.figure(figsize=(15,5))\n",
    "plt.plot(X, loss_10, label=\"10 Hidden Neurons\")\n",
    "plt.plot(X,loss_15 ,label=\"15 Hidden Neurons\")\n",
    "plt.xticks(X)\n",
    "plt.xlabel(\"Epochs\", size=15)\n",
    "plt.ylabel(\"Training loss\", size=15)\n",
    "plt.title(\"Epochs vs Training loss\", size=20)\n",
    "plt.legend()\n",
    "plt.show()"
   ]
  }
 ],
 "metadata": {
  "kernelspec": {
   "display_name": "Python 3 (ipykernel)",
   "language": "python",
   "name": "python3"
  },
  "language_info": {
   "codemirror_mode": {
    "name": "ipython",
    "version": 3
   },
   "file_extension": ".py",
   "mimetype": "text/x-python",
   "name": "python",
   "nbconvert_exporter": "python",
   "pygments_lexer": "ipython3",
   "version": "3.8.12"
  }
 },
 "nbformat": 4,
 "nbformat_minor": 5
}
